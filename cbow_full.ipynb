{
 "cells": [
  {
   "cell_type": "code",
   "execution_count": 1,
   "id": "1d918a9b-7356-4107-9324-442d986ccaad",
   "metadata": {},
   "outputs": [],
   "source": [
    "import pandas as pd\n",
    "import numpy as np\n",
    "from sklearn.feature_extraction.text import CountVectorizer, TfidfVectorizer"
   ]
  },
  {
   "cell_type": "code",
   "execution_count": 2,
   "id": "d07c83e9-b166-4a35-8774-33b18673ec34",
   "metadata": {},
   "outputs": [],
   "source": [
    "test_data = pd.read_csv('test_clean.csv')\n",
    "train_data = pd.read_csv('train_clean.csv')\n"
   ]
  },
  {
   "cell_type": "code",
   "execution_count": 3,
   "id": "0df5b6b9-4924-4c0d-aa2f-0493d8a680ad",
   "metadata": {},
   "outputs": [],
   "source": [
    "import torch\n",
    "import torch.nn as nn"
   ]
  },
  {
   "cell_type": "code",
   "execution_count": 4,
   "id": "cf2f069a-2ccb-4501-be61-27b30e364f9e",
   "metadata": {},
   "outputs": [],
   "source": [
    "def make_context_vector(context, word_to_ix):\n",
    "    idxs = [word_to_ix[w] for w in context]\n",
    "    return torch.tensor(idxs, dtype=torch.long)"
   ]
  },
  {
   "cell_type": "code",
   "execution_count": 5,
   "id": "570959d2-107e-4fd3-8edf-3920a7c7c4e4",
   "metadata": {},
   "outputs": [],
   "source": [
    "CONTEXT_SIZE = 2  # 2 words to the left, 2 to the right\n",
    "EMDEDDING_DIM = 100"
   ]
  },
  {
   "cell_type": "code",
   "execution_count": 6,
   "id": "fc711ab2-bdd5-4b2b-b17c-cf43619d0292",
   "metadata": {},
   "outputs": [],
   "source": [
    "methods = train_data.loc[train_data['category'] == 'METHODS']\n",
    "background = train_data.loc[train_data['category'] == 'BACKGROUND']\n",
    "results = train_data.loc[train_data['category'] == 'RESULTS']\n",
    "objective = train_data.loc[train_data['category'] == 'OBJECTIVE']\n",
    "conclusions = train_data.loc[train_data['category'] == 'CONCLUSIONS']"
   ]
  },
  {
   "cell_type": "code",
   "execution_count": 7,
   "id": "e0f5e933-f3bc-49f5-818e-e107c50de32b",
   "metadata": {},
   "outputs": [],
   "source": [
    "train_data_sample = background\n",
    "sample_1_list = (train_data_sample['text']).tolist()\n",
    "#sample_1 =' '.join(map(str, sample_1_list))\n",
    "sentences = sample_1_list"
   ]
  },
  {
   "cell_type": "code",
   "execution_count": 8,
   "id": "9ac088ef-7728-4a91-b73a-4c9eadc526ff",
   "metadata": {},
   "outputs": [],
   "source": [
    "for i, sentence in enumerate(sentences):\n",
    "    #sentence = sentence.strip('.,();:')\n",
    "    sentence = sentence.replace(',','')\n",
    "    sentence = sentence.replace('.','')\n",
    "    sentence = sentence.replace('(','')\n",
    "    sentence = sentence.replace(')','')\n",
    "    sentence = sentence.replace(';','')\n",
    "    sentence = sentence.replace(':','')\n",
    "\n",
    "    sentence = sentence.split()\n",
    "    \n",
    "    sentences[i] = sentence"
   ]
  },
  {
   "cell_type": "code",
   "execution_count": 9,
   "id": "caef95fa-e8de-4116-aa19-889869de51f8",
   "metadata": {},
   "outputs": [],
   "source": [
    "#sentences\n",
    "import itertools\n",
    "\n",
    "regular_list = sentences\n",
    "raw_text = list(itertools.chain(*regular_list))"
   ]
  },
  {
   "cell_type": "code",
   "execution_count": 10,
   "id": "bc1de7a3-fce6-4fe8-bd47-18530e1b1f2e",
   "metadata": {},
   "outputs": [],
   "source": [
    "# By deriving a set from `raw_text`, we deduplicate the array\n",
    "vocab = set(raw_text)\n",
    "vocab_size = len(vocab)"
   ]
  },
  {
   "cell_type": "code",
   "execution_count": 11,
   "id": "84518442-fbcb-4749-b8ab-823bca1ab47b",
   "metadata": {},
   "outputs": [],
   "source": [
    "word_to_ix = {word:ix for ix, word in enumerate(vocab)}\n",
    "ix_to_word = {ix:word for ix, word in enumerate(vocab)}"
   ]
  },
  {
   "cell_type": "code",
   "execution_count": 12,
   "id": "9a22d2f1-f207-45e4-89f7-251354d82980",
   "metadata": {},
   "outputs": [],
   "source": [
    "data = []\n",
    "for i in range(2, len(raw_text) - 2):\n",
    "    context = [raw_text[i - 2], raw_text[i - 1],\n",
    "               raw_text[i + 1], raw_text[i + 2]]\n",
    "    target = raw_text[i]\n",
    "    data.append((context, target))"
   ]
  },
  {
   "cell_type": "code",
   "execution_count": 13,
   "id": "90e1fd41-ad06-4820-8caf-4902d2de0153",
   "metadata": {},
   "outputs": [],
   "source": [
    "class CBOW(torch.nn.Module):\n",
    "    def __init__(self, vocab_size, embedding_dim):\n",
    "        super(CBOW, self).__init__()\n",
    "\n",
    "        #out: 1 x emdedding_dim\n",
    "        self.embeddings = nn.Embedding(vocab_size, embedding_dim)\n",
    "        self.linear1 = nn.Linear(embedding_dim, 128)\n",
    "        self.activation_function1 = nn.ReLU()\n",
    "        \n",
    "        #out: 1 x vocab_size\n",
    "        self.linear2 = nn.Linear(128, vocab_size)\n",
    "        self.activation_function2 = nn.LogSoftmax(dim = -1)\n",
    "        \n",
    "\n",
    "    def forward(self, inputs):\n",
    "        embeds = sum(self.embeddings(inputs)).view(1,-1)\n",
    "        out = self.linear1(embeds)\n",
    "        out = self.activation_function1(out)\n",
    "        out = self.linear2(out)\n",
    "        out = self.activation_function2(out)\n",
    "        return out\n",
    "\n",
    "    def get_word_emdedding(self, word):\n",
    "        word = torch.tensor([word_to_ix[word]])\n",
    "        return self.embeddings(word).view(1,-1)"
   ]
  },
  {
   "cell_type": "code",
   "execution_count": 14,
   "id": "f6880d2c-9d09-415d-92ea-94cfe3ec5cff",
   "metadata": {},
   "outputs": [],
   "source": [
    "class CBOW(torch.nn.Module):\n",
    "    def __init__(self, vocab_size, embedding_dim):\n",
    "        super(CBOW, self).__init__()\n",
    "\n",
    "        #out: 1 x emdedding_dim\n",
    "        self.embeddings = nn.Embedding(vocab_size, embedding_dim)\n",
    "        self.linear1 = nn.Linear(embedding_dim, 128)\n",
    "        self.activation_function1 = nn.ReLU()\n",
    "        \n",
    "        #out: 1 x vocab_size\n",
    "        self.linear2 = nn.Linear(128, vocab_size)\n",
    "        self.activation_function2 = nn.LogSoftmax(dim = -1)\n",
    "        \n",
    "\n",
    "    def forward(self, inputs):\n",
    "        embeds = sum(self.embeddings(inputs)).view(1,-1)\n",
    "        out = self.linear1(embeds)\n",
    "        out = self.activation_function1(out)\n",
    "        out = self.linear2(out)\n",
    "        out = self.activation_function2(out)\n",
    "        return out\n",
    "\n",
    "    def get_word_emdedding(self, word):\n",
    "        word = torch.tensor([word_to_ix[word]])\n",
    "        return self.embeddings(word).view(1,-1)"
   ]
  },
  {
   "cell_type": "code",
   "execution_count": 15,
   "id": "a55f7625-c5da-4787-8b55-4e9980fc0d64",
   "metadata": {},
   "outputs": [],
   "source": [
    "model = CBOW(vocab_size, EMDEDDING_DIM)\n",
    "\n",
    "loss_function = nn.NLLLoss()\n",
    "optimizer = torch.optim.SGD(model.parameters(), lr=0.001)"
   ]
  },
  {
   "cell_type": "code",
   "execution_count": null,
   "id": "7cf26459-180f-4e56-9247-a48b68574c86",
   "metadata": {},
   "outputs": [],
   "source": [
    "\n",
    "#TRAINING\n",
    "for epoch in range(2):\n",
    "    total_loss = 0\n",
    "\n",
    "    for context, target in data:\n",
    "        context_vector = make_context_vector(context, word_to_ix)  \n",
    "\n",
    "        log_probs = model(context_vector)\n",
    "\n",
    "        total_loss += loss_function(log_probs, torch.tensor([word_to_ix[target]]))\n",
    "\n",
    "    #optimize at the end of each epoch\n",
    "    optimizer.zero_grad()\n",
    "    total_loss.backward()\n",
    "    optimizer.step()"
   ]
  },
  {
   "cell_type": "code",
   "execution_count": null,
   "id": "2ac0e967-3a2d-4131-8578-3ca01c9d06f4",
   "metadata": {},
   "outputs": [],
   "source": [
    "#TESTING\n",
    "context = ['controlled', 'trial', 'study', 'designed'] # target = randomised\n",
    "context_vector = make_context_vector(context, word_to_ix)\n",
    "a = model(context_vector)\n"
   ]
  },
  {
   "cell_type": "code",
   "execution_count": null,
   "id": "c2150f67-d459-4114-bbf5-2b965131543d",
   "metadata": {},
   "outputs": [],
   "source": [
    "#Print result\n",
    "print(f'Raw text: {\" \".join(raw_text)}\\n')\n",
    "print(f'Context: {context}\\n')\n",
    "print(f'Prediction: {ix_to_word[torch.argmax(a[0]).item()]}')"
   ]
  },
  {
   "cell_type": "code",
   "execution_count": null,
   "id": "cc9884b1-64eb-4a87-a3a8-8668d6c6fc66",
   "metadata": {},
   "outputs": [],
   "source": []
  }
 ],
 "metadata": {
  "kernelspec": {
   "display_name": "Python 3 (ipykernel)",
   "language": "python",
   "name": "python3"
  },
  "language_info": {
   "codemirror_mode": {
    "name": "ipython",
    "version": 3
   },
   "file_extension": ".py",
   "mimetype": "text/x-python",
   "name": "python",
   "nbconvert_exporter": "python",
   "pygments_lexer": "ipython3",
   "version": "3.8.10"
  }
 },
 "nbformat": 4,
 "nbformat_minor": 5
}
