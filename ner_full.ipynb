{
 "cells": [
  {
   "cell_type": "code",
   "execution_count": null,
   "id": "5ba169ce-87f0-4c2b-954e-7c339075afe2",
   "metadata": {},
   "outputs": [],
   "source": [
    "import pandas as pd\n",
    "import numpy as np\n",
    "from sklearn.feature_extraction.text import CountVectorizer, TfidfVectorizer"
   ]
  },
  {
   "cell_type": "code",
   "execution_count": null,
   "id": "82bd84e3-ec0d-4bb2-8e27-7cefaf7f6a0d",
   "metadata": {},
   "outputs": [],
   "source": [
    "test_data = pd.read_csv('test_clean.csv')\n",
    "train_data = pd.read_csv('train_clean.csv')\n"
   ]
  },
  {
   "cell_type": "code",
   "execution_count": null,
   "id": "4218f4ae-a176-4645-80b2-69e6ea0f9cfd",
   "metadata": {},
   "outputs": [],
   "source": [
    "# Trying NER\n",
    "\n",
    "import spacy\n",
    "from spacy import displacy\n",
    "\n",
    "NER = spacy.load(\"en_core_web_sm\")"
   ]
  },
  {
   "cell_type": "code",
   "execution_count": null,
   "id": "9201c347-f2fd-40cd-9860-4ba71bbfa9bc",
   "metadata": {},
   "outputs": [],
   "source": [
    "train_data_sample = train_data\n",
    "sample_1_list = (train_data_sample['text']).tolist()\n",
    "#sample_1 =' '.join(map(str, sample_1_list))\n",
    "sentences = sample_1_list\n",
    "\n",
    "for i, sentence in enumerate(sentences):\n",
    "    #sentence = sentence.strip('.,();:')\n",
    "    sentence = sentence.replace(',','')\n",
    "    sentence = sentence.replace('.','')\n",
    "    sentence = sentence.replace('(','')\n",
    "    sentence = sentence.replace(')','')\n",
    "    sentence = sentence.replace(';','')\n",
    "    sentence = sentence.replace(':','')\n",
    "\n",
    "    sentence = sentence.split()\n",
    "    \n",
    "    sentences[i] = sentence\n",
    "\n",
    "\n",
    "#sentences\n",
    "import itertools\n",
    "\n",
    "regular_list = sentences\n",
    "raw_text = list(itertools.chain(*regular_list))"
   ]
  },
  {
   "cell_type": "code",
   "execution_count": null,
   "id": "09b269f8-54e4-4403-877f-633c546e7116",
   "metadata": {},
   "outputs": [],
   "source": [
    "#raw_text\n",
    "raw_one =' '.join(raw_text)\n",
    "#raw_one"
   ]
  },
  {
   "cell_type": "code",
   "execution_count": null,
   "id": "e1d751af-f8b7-4402-8f85-9a520bccd4f8",
   "metadata": {},
   "outputs": [],
   "source": [
    "raw_text = raw_one\n",
    "text1= NER(raw_text)"
   ]
  },
  {
   "cell_type": "code",
   "execution_count": null,
   "id": "11750367-2103-442f-9138-3feba09691e7",
   "metadata": {},
   "outputs": [],
   "source": [
    "for word in text1.ents:\n",
    "    print(word.text,word.label_)"
   ]
  },
  {
   "cell_type": "code",
   "execution_count": null,
   "id": "bb34d92e-1f5c-4b0e-92b9-2558e23a46ce",
   "metadata": {},
   "outputs": [],
   "source": [
    "displacy.render(text1,style=\"ent\",jupyter=True)"
   ]
  },
  {
   "cell_type": "code",
   "execution_count": null,
   "id": "41032849-596a-41ba-9e7a-ca2fe65ed5c9",
   "metadata": {},
   "outputs": [],
   "source": []
  },
  {
   "cell_type": "code",
   "execution_count": null,
   "id": "05d35625-b9b1-487e-9f09-9e99e23921f6",
   "metadata": {},
   "outputs": [],
   "source": []
  }
 ],
 "metadata": {
  "kernelspec": {
   "display_name": "Python 3 (ipykernel)",
   "language": "python",
   "name": "python3"
  },
  "language_info": {
   "codemirror_mode": {
    "name": "ipython",
    "version": 3
   },
   "file_extension": ".py",
   "mimetype": "text/x-python",
   "name": "python",
   "nbconvert_exporter": "python",
   "pygments_lexer": "ipython3",
   "version": "3.8.10"
  }
 },
 "nbformat": 4,
 "nbformat_minor": 5
}
