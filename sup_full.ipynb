{
 "cells": [
  {
   "cell_type": "code",
   "execution_count": null,
   "id": "6b6f53b9-d452-45bd-b401-6bb674be3a76",
   "metadata": {},
   "outputs": [],
   "source": [
    "import pandas as pd\n",
    "import numpy as np\n",
    "from sklearn.feature_extraction.text import CountVectorizer, TfidfVectorizer"
   ]
  },
  {
   "cell_type": "code",
   "execution_count": null,
   "id": "f34533eb-464c-428b-a786-9b903548f59b",
   "metadata": {},
   "outputs": [],
   "source": [
    "test_data = pd.read_csv('test_clean.csv')\n",
    "train_data = pd.read_csv('train_clean.csv')\n"
   ]
  },
  {
   "cell_type": "code",
   "execution_count": null,
   "id": "bf09359e-6cc8-4c3f-8979-09c4cce8cb9a",
   "metadata": {},
   "outputs": [],
   "source": [
    "import joblib\n",
    "import re\n",
    "import string\n",
    "\n",
    "import numpy as np\n",
    "import pandas as pd\n",
    "\n",
    "from sklearn.datasets import fetch_20newsgroups\n",
    "from sklearn.feature_extraction.text import CountVectorizer\n",
    "from sklearn.metrics import accuracy_score, cohen_kappa_score, f1_score, classification_report\n",
    "from sklearn.model_selection import StratifiedKFold, train_test_split\n",
    "from sklearn.naive_bayes import MultinomialNB"
   ]
  },
  {
   "cell_type": "code",
   "execution_count": null,
   "id": "31bf342d-c718-4948-bddf-b9d5015fd413",
   "metadata": {},
   "outputs": [],
   "source": [
    "categories = [\n",
    "    \"BACKGROUND\",\n",
    "    \"OBJECTIVE\",\n",
    "    \"METHODS\",\n",
    "    \"RESULTS\",\n",
    "    \"CONCLUSION\",\n",
    "]\n",
    "\n",
    "test_data_sample = test_data\n",
    "train_data_sample = train_data\n",
    "\n",
    "\n",
    "group_data = train_data_sample\n",
    "\n"
   ]
  },
  {
   "cell_type": "code",
   "execution_count": null,
   "id": "fcfa441d-51a1-40f8-aff6-82267a87d987",
   "metadata": {},
   "outputs": [],
   "source": [
    "train_df = pd.DataFrame(\n",
    "    dict(\n",
    "        text= group_data[\"text\"],\n",
    "        target= group_data[\"category\"]\n",
    "    )\n",
    ")\n",
    "\n",
    "\n",
    "test_df = pd.DataFrame(\n",
    "    dict(\n",
    "        text= test_data_sample[\"text\"],\n",
    "        target= test_data_sample[\"category\"]\n",
    "    )\n",
    ")"
   ]
  },
  {
   "cell_type": "code",
   "execution_count": null,
   "id": "1adced6d-fe93-48fa-b30d-4ca0a2afe80d",
   "metadata": {},
   "outputs": [],
   "source": [
    "vec = CountVectorizer(\n",
    "    ngram_range=(1, 3), \n",
    "    stop_words=\"english\",\n",
    ")\n",
    "\n",
    "X_train = vec.fit_transform(train_df.text)\n",
    "X_test = vec.transform(test_df.text)\n",
    "\n",
    "y_train = train_df.target\n",
    "y_test = test_df.targe"
   ]
  },
  {
   "cell_type": "code",
   "execution_count": null,
   "id": "21f37462-e97d-4ff4-8400-7c190be0fc8f",
   "metadata": {},
   "outputs": [],
   "source": [
    "nb = MultinomialNB()\n",
    "nb.fit(X_train, y_train)\n",
    "\n",
    "preds = nb.predict(X_test)\n",
    "print(classification_report(y_test, preds))"
   ]
  },
  {
   "cell_type": "code",
   "execution_count": null,
   "id": "38458aad-50fa-4dda-a0ba-fc4a4df4b73d",
   "metadata": {},
   "outputs": [],
   "source": [
    "from sklearn.feature_extraction.text import TfidfVectorizer\n",
    "\n",
    "tfidf = TfidfVectorizer(sublinear_tf=True, min_df=5, norm='l2', encoding='latin-1', ngram_range=(1, 2), stop_words='english')\n",
    "\n",
    "features = tfidf.fit_transform(train_data_sample.text).toarray()\n",
    "labels = train_data_sample.category\n",
    "features.shape"
   ]
  },
  {
   "cell_type": "code",
   "execution_count": null,
   "id": "78c6db02-433e-4cdb-bc4b-ff088401d963",
   "metadata": {},
   "outputs": [],
   "source": [
    "from sklearn.linear_model import LogisticRegression\n",
    "from sklearn.ensemble import RandomForestClassifier\n",
    "from sklearn.naive_bayes import MultinomialNB\n",
    "from sklearn.svm import LinearSVC\n",
    "\n",
    "from sklearn.model_selection import cross_val_score\n",
    "\n",
    "\n",
    "models = [\n",
    "    RandomForestClassifier(n_estimators=200, max_depth=3, random_state=0),\n",
    "    LinearSVC(),\n",
    "    MultinomialNB(),\n",
    "    LogisticRegression(random_state=0),\n",
    "]\n",
    "\n",
    "\n",
    "CV = 5\n",
    "\n",
    "\n",
    "cv_df = pd.DataFrame(index=range(CV * len(models)))\n",
    "\n",
    "\n",
    "entries = []\n",
    "\n",
    "\n",
    "for model in models:\n",
    "    model_name = model.__class__.__name__\n",
    "    accuracies = cross_val_score(model, features, labels, scoring='accuracy', cv=CV)\n",
    "    for fold_idx, accuracy in enumerate(accuracies):\n",
    "        entries.append((model_name, fold_idx, accuracy))\n",
    "    \n",
    "    \n",
    "cv_df = pd.DataFrame(entries, columns=['model_name', 'fold_idx', 'accuracy'])"
   ]
  },
  {
   "cell_type": "code",
   "execution_count": null,
   "id": "2bb9671b-12a7-46f1-bdcd-12d09480d982",
   "metadata": {},
   "outputs": [],
   "source": [
    "import seaborn as sns\n",
    "\n",
    "sns.boxplot(x='model_name', y='accuracy', data=cv_df)\n",
    "sns.stripplot(x='model_name', y='accuracy', data=cv_df, \n",
    "              size=8, jitter=True, edgecolor=\"gray\", linewidth=2)\n",
    "plt.show()"
   ]
  },
  {
   "cell_type": "code",
   "execution_count": null,
   "id": "8ee9e3bc-ecd0-4c9e-99c0-92023d5445df",
   "metadata": {},
   "outputs": [],
   "source": [
    "print(cv_df.groupby('model_name').accuracy.mean())"
   ]
  },
  {
   "cell_type": "code",
   "execution_count": null,
   "id": "1b7a1c95-a805-4bb2-a28a-be2a41189c50",
   "metadata": {},
   "outputs": [],
   "source": [
    "model = LinearSVC()\n",
    "\n",
    "\n",
    "model.fit(X_train, y_train)\n",
    "y_pred = model.predict(X_test)"
   ]
  },
  {
   "cell_type": "code",
   "execution_count": null,
   "id": "2f0c8052-4d23-4acc-8b2d-59f5d19dce7e",
   "metadata": {},
   "outputs": [],
   "source": [
    "print(classification_report(y_test, y_pred))"
   ]
  }
 ],
 "metadata": {
  "kernelspec": {
   "display_name": "Python 3 (ipykernel)",
   "language": "python",
   "name": "python3"
  },
  "language_info": {
   "codemirror_mode": {
    "name": "ipython",
    "version": 3
   },
   "file_extension": ".py",
   "mimetype": "text/x-python",
   "name": "python",
   "nbconvert_exporter": "python",
   "pygments_lexer": "ipython3",
   "version": "3.8.10"
  }
 },
 "nbformat": 4,
 "nbformat_minor": 5
}
